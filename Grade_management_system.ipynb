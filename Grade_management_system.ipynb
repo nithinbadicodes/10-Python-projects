{
  "nbformat": 4,
  "nbformat_minor": 0,
  "metadata": {
    "colab": {
      "provenance": [],
      "authorship_tag": "ABX9TyPflybbGmooXE2CMY5A9ftj",
      "include_colab_link": true
    },
    "kernelspec": {
      "name": "python3",
      "display_name": "Python 3"
    },
    "language_info": {
      "name": "python"
    }
  },
  "cells": [
    {
      "cell_type": "markdown",
      "metadata": {
        "id": "view-in-github",
        "colab_type": "text"
      },
      "source": [
        "<a href=\"https://colab.research.google.com/github/nithinbadicodes/10-Python-projects/blob/master/Grade_management_system.ipynb\" target=\"_parent\"><img src=\"https://colab.research.google.com/assets/colab-badge.svg\" alt=\"Open In Colab\"/></a>"
      ]
    },
    {
      "cell_type": "markdown",
      "source": [
        "## Grade management system"
      ],
      "metadata": {
        "id": "j2jM7hrnKtOb"
      }
    },
    {
      "cell_type": "markdown",
      "source": [
        "Level: Medium\n",
        "* You are the headmaster of a school. Each year, you need to track the student’s progress, calculate averages, and keep parents updated.\n",
        "* Create a grade management system to store and manage students’ grades efficiently, allowing easy input and review.\n",
        "* Task: Use a dictionary to store student names and grades. Allow input of new grades, updating existing ones, and viewing a summary.\n",
        "* Calculate average grades for individual students and the class. Key Concepts: Dictionaries, loops, input/output handling."
      ],
      "metadata": {
        "id": "KqnH54t4Kctj"
      }
    },
    {
      "cell_type": "code",
      "execution_count": 2,
      "metadata": {
        "id": "iyCz50PaKcCD"
      },
      "outputs": [],
      "source": [
        "\n",
        "def name_check(grade_system,name):\n",
        "   if name in grade_system.keys():\n",
        "    print(f'{name} is already in the system')\n",
        "    return False\n",
        "   return True\n",
        "\n",
        "\n",
        "def grade_entry(grade_system):\n",
        "\n",
        "  while True:\n",
        "    name = input('Enter the name of the student: \\n')\n",
        "    if not name_check(grade_system,name):\n",
        "      continue\n",
        "    break\n",
        "\n",
        "\n",
        "  while True:\n",
        "    grade = input('Enter the grade')\n",
        "\n",
        "    if grade.upper() not in list('SABCDEF'):\n",
        "      print('Invalid grade. Enter grade between S,A,B,C,D,E,F \\n')\n",
        "      continue\n",
        "    break\n",
        "  grade_system[name] = grade.upper()\n",
        "  return grade_system\n",
        "\n",
        "\n",
        "\n",
        "def grade_update(grade_system,name,grade):\n",
        "  pass\n",
        "\n"
      ]
    },
    {
      "cell_type": "code",
      "source": [
        "grade_system = {'nithin':'S'}\n",
        "\n",
        "step = input('For grade entry select -> E, For grade update select -> U: ')\n",
        "\n",
        "\n",
        "if step.upper() == 'E':\n",
        "  grade_system = grade_entry(grade_system)\n",
        "if step.upper() == 'U':\n",
        "  grade_system = grade_update(grade_system,name)\n",
        "print(grade_system)"
      ],
      "metadata": {
        "colab": {
          "base_uri": "https://localhost:8080/"
        },
        "id": "AeSlhLtTM0X5",
        "outputId": "4a95730f-b164-4231-ac75-4137575eb2c2"
      },
      "execution_count": 6,
      "outputs": [
        {
          "output_type": "stream",
          "name": "stdout",
          "text": [
            "For grade entry select -> E, For grade update select -> Ue\n",
            "Enter the name of the student: \n",
            "nithin\n",
            "nithin is already in the system\n",
            "Enter the name of the student: \n",
            "rena\n",
            "Enter the gradeG\n",
            "Invalid grade. Enter grade between S,A,B,C,D,E,F \n",
            "\n",
            "Enter the gradef\n",
            "{'nithin': 'S', 'rena': 'f'}\n"
          ]
        }
      ]
    },
    {
      "cell_type": "code",
      "source": [],
      "metadata": {
        "id": "SOpNABHgM9VZ"
      },
      "execution_count": null,
      "outputs": []
    }
  ]
}