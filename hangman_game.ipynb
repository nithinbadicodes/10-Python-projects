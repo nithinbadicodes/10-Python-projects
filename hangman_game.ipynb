{
  "nbformat": 4,
  "nbformat_minor": 0,
  "metadata": {
    "colab": {
      "provenance": [],
      "authorship_tag": "ABX9TyOUvhfJws76LarFCrfY5PFw",
      "include_colab_link": true
    },
    "kernelspec": {
      "name": "python3",
      "display_name": "Python 3"
    },
    "language_info": {
      "name": "python"
    }
  },
  "cells": [
    {
      "cell_type": "markdown",
      "metadata": {
        "id": "view-in-github",
        "colab_type": "text"
      },
      "source": [
        "<a href=\"https://colab.research.google.com/github/nithinbadicodes/10-Python-projects/blob/master/hangman_game.ipynb\" target=\"_parent\"><img src=\"https://colab.research.google.com/assets/colab-badge.svg\" alt=\"Open In Colab\"/></a>"
      ]
    },
    {
      "cell_type": "markdown",
      "source": [
        "## Hangman"
      ],
      "metadata": {
        "id": "TDN3LHhPjGX7"
      }
    },
    {
      "cell_type": "markdown",
      "source": [
        "* Level: Medium You’ve just been transported into a magical kingdom where words hold the power to save or doom someone. An evil wizard has captured a poor soul; the only way to free them is by guessing the secret word.\n",
        "* Each wrong guess brings the prisoner closer to their fate. Use your code to build this classic game and save the day!\n",
        "* Task: Choose a word randomly from a list. Display underscores for each letter and update with correct guesses. Limit incorrect guesses to a set number.\n",
        "* Key Concepts: Loops, conditionals, random module, lists, string manipulation."
      ],
      "metadata": {
        "id": "3m8a7Qp5i2dZ"
      }
    },
    {
      "cell_type": "code",
      "execution_count": 1,
      "metadata": {
        "id": "21X5B08BizQW"
      },
      "outputs": [],
      "source": [
        "import random"
      ]
    },
    {
      "cell_type": "code",
      "source": [
        "secret_words = ['purple','heart','baggage','serene','monster']"
      ],
      "metadata": {
        "id": "f4U2PfymjL0c"
      },
      "execution_count": 2,
      "outputs": []
    },
    {
      "cell_type": "code",
      "source": [
        "# Using string.ascii_lowercase (most common)\n",
        "import string\n",
        "\n",
        "\n",
        "def hangman(secret):\n",
        "\n",
        "  total_guesses = len(secret) + 2\n",
        "  guesses = 0\n",
        "  letters = list('_'*(len(secret)))\n",
        "  guess_letters = []\n",
        "  while True:\n",
        "\n",
        "\n",
        "    # Game win and lose condition\n",
        "    if '_' not in letters:\n",
        "      print(' '.join(letters))\n",
        "      print('Congrats you saved the man')\n",
        "      break\n",
        "    if guesses == total_guesses:\n",
        "      print(f'The word  was {secret}\\n')\n",
        "      print('You lost. The man died')\n",
        "      break\n",
        "\n",
        "\n",
        "    print(' '.join(letters))\n",
        "    guess = input('Choose a letter between A-Z: ').lower()\n",
        "\n",
        "    if guess not in guess_letters:\n",
        "      guess_letters.append(guess)\n",
        "    else:\n",
        "      print(f'You already guessed the letter {guess}. Try again')\n",
        "      continue\n",
        "\n",
        "\n",
        "    if guess not in list(string.ascii_lowercase):\n",
        "      print('Letter not in-between A-Z')\n",
        "      continue\n",
        "\n",
        "    indices = [i for i, char in enumerate(secret) if char == guess]\n",
        "\n",
        "    if not indices:\n",
        "      guesses+=1\n",
        "      print(f'You have {total_guesses - guesses} left')\n",
        "      continue\n",
        "    else:\n",
        "      guesses+=1\n",
        "      print(f'You have {total_guesses - guesses} left')\n",
        "      letters = ''.join([guess if i in indices else char for i, char in enumerate(letters)])\n",
        "\n",
        "\n",
        "\n",
        "\n"
      ],
      "metadata": {
        "id": "jlDrsapTjtWm"
      },
      "execution_count": 54,
      "outputs": []
    },
    {
      "cell_type": "markdown",
      "source": [
        "### Win case"
      ],
      "metadata": {
        "id": "4Hy9A1WLvv7k"
      }
    },
    {
      "cell_type": "code",
      "source": [
        "secret = random.choice(secret_words)\n",
        "hangman(secret)"
      ],
      "metadata": {
        "colab": {
          "base_uri": "https://localhost:8080/"
        },
        "id": "l5imNgODtnic",
        "outputId": "21c6580d-6ca7-4985-c04c-6119140bce1e"
      },
      "execution_count": 55,
      "outputs": [
        {
          "output_type": "stream",
          "name": "stdout",
          "text": [
            "_ _ _ _ _ _\n",
            "Choose a letter between A-Z: p\n",
            "You have 7 left\n",
            "p _ _ p _ _\n",
            "Choose a letter between A-Z: u\n",
            "You have 6 left\n",
            "p u _ p _ _\n",
            "Choose a letter between A-Z: r\n",
            "You have 5 left\n",
            "p u r p _ _\n",
            "Choose a letter between A-Z: l\n",
            "You have 4 left\n",
            "p u r p l _\n",
            "Choose a letter between A-Z: e\n",
            "You have 3 left\n",
            "p u r p l e\n",
            "Congrats you saved the man\n"
          ]
        }
      ]
    },
    {
      "cell_type": "markdown",
      "source": [
        "### Lose case"
      ],
      "metadata": {
        "id": "wGvBEtjnv8Kw"
      }
    },
    {
      "cell_type": "code",
      "source": [
        "secret = random.choice(secret_words)\n",
        "hangman(secret)"
      ],
      "metadata": {
        "colab": {
          "base_uri": "https://localhost:8080/"
        },
        "id": "h4z_yGUJvsdH",
        "outputId": "8957eca9-b826-40d4-d4e0-6a69e8ca9586"
      },
      "execution_count": 56,
      "outputs": [
        {
          "output_type": "stream",
          "name": "stdout",
          "text": [
            "_ _ _ _ _ _\n",
            "Choose a letter between A-Z: a\n",
            "You have 7 left\n",
            "_ _ _ _ _ _\n",
            "Choose a letter between A-Z: s\n",
            "You have 6 left\n",
            "s _ _ _ _ _\n",
            "Choose a letter between A-Z: d\n",
            "You have 5 left\n",
            "s _ _ _ _ _\n",
            "Choose a letter between A-Z: f\n",
            "You have 4 left\n",
            "s _ _ _ _ _\n",
            "Choose a letter between A-Z: g\n",
            "You have 3 left\n",
            "s _ _ _ _ _\n",
            "Choose a letter between A-Z: h\n",
            "You have 2 left\n",
            "s _ _ _ _ _\n",
            "Choose a letter between A-Z: i\n",
            "You have 1 left\n",
            "s _ _ _ _ _\n",
            "Choose a letter between A-Z: u\n",
            "You have 0 left\n",
            "The word  was serene\n",
            "\n",
            "You lost. The man died\n"
          ]
        }
      ]
    },
    {
      "cell_type": "code",
      "source": [],
      "metadata": {
        "id": "mmXK2hIqv1gO"
      },
      "execution_count": null,
      "outputs": []
    }
  ]
}