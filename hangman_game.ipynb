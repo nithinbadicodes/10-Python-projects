{
  "nbformat": 4,
  "nbformat_minor": 0,
  "metadata": {
    "colab": {
      "provenance": [],
      "authorship_tag": "ABX9TyPsdXReDS5dNBOBWsDG1QJP",
      "include_colab_link": true
    },
    "kernelspec": {
      "name": "python3",
      "display_name": "Python 3"
    },
    "language_info": {
      "name": "python"
    }
  },
  "cells": [
    {
      "cell_type": "markdown",
      "metadata": {
        "id": "view-in-github",
        "colab_type": "text"
      },
      "source": [
        "<a href=\"https://colab.research.google.com/github/nithinbadicodes/10-Python-projects/blob/master/hangman_game.ipynb\" target=\"_parent\"><img src=\"https://colab.research.google.com/assets/colab-badge.svg\" alt=\"Open In Colab\"/></a>"
      ]
    },
    {
      "cell_type": "markdown",
      "source": [
        "## Hangman"
      ],
      "metadata": {
        "id": "TDN3LHhPjGX7"
      }
    },
    {
      "cell_type": "markdown",
      "source": [
        "* Level: Medium You’ve just been transported into a magical kingdom where words hold the power to save or doom someone. An evil wizard has captured a poor soul; the only way to free them is by guessing the secret word.\n",
        "* Each wrong guess brings the prisoner closer to their fate. Use your code to build this classic game and save the day!\n",
        "* Task: Choose a word randomly from a list. Display underscores for each letter and update with correct guesses. Limit incorrect guesses to a set number.\n",
        "* Key Concepts: Loops, conditionals, random module, lists, string manipulation."
      ],
      "metadata": {
        "id": "3m8a7Qp5i2dZ"
      }
    },
    {
      "cell_type": "code",
      "execution_count": 1,
      "metadata": {
        "id": "21X5B08BizQW"
      },
      "outputs": [],
      "source": [
        "import random"
      ]
    },
    {
      "cell_type": "code",
      "source": [
        "secret_words = ['purple','heart','baggage','serene','monster']"
      ],
      "metadata": {
        "id": "f4U2PfymjL0c"
      },
      "execution_count": 2,
      "outputs": []
    },
    {
      "cell_type": "code",
      "source": [
        "# Using string.ascii_lowercase (most common)\n",
        "import string\n",
        "\n",
        "\n",
        "\n",
        "secret = random.choice(secret_words)\n",
        "total_guesses = len(secret) + 2\n",
        "guesses = 0\n",
        "letters = list('_'*(len(secret)))\n",
        "guess_letters = []\n",
        "while True:\n",
        "\n",
        "\n",
        "  # Game win and lose condition\n",
        "  if '_' not in letters:\n",
        "    print(' '.join(letters))\n",
        "    print('Congrats you saved the man')\n",
        "    break\n",
        "  if guesses == total_guesses:\n",
        "    print(f'The word  was {secret}\\n')\n",
        "    print('You lost. The man died')\n",
        "    break\n",
        "\n",
        "\n",
        "  print(' '.join(letters))\n",
        "  guess = input('Choose a letter between A-Z').lower()\n",
        "\n",
        "  if guess not in guess_letters:\n",
        "    guess_letters.append(guess)\n",
        "  else:\n",
        "    print(f'You already guessed the letter {guess}. Try again')\n",
        "    continue\n",
        "\n",
        "\n",
        "  if guess not in list(string.ascii_lowercase):\n",
        "    print('Letter not in-between A-Z')\n",
        "    continue\n",
        "\n",
        "  indices = [i for i, char in enumerate(secret) if char == guess]\n",
        "\n",
        "  if not indices:\n",
        "    guesses+=1\n",
        "    print(f'You have {total_guesses - guesses} left')\n",
        "    continue\n",
        "  else:\n",
        "    guesses+=1\n",
        "    print(f'You have {total_guesses - guesses} left')\n",
        "    letters = ''.join([guess if i in indices else char for i, char in enumerate(letters)])\n",
        "\n",
        "\n",
        "\n",
        "\n"
      ],
      "metadata": {
        "colab": {
          "base_uri": "https://localhost:8080/"
        },
        "id": "jlDrsapTjtWm",
        "outputId": "25d3e440-fc85-4704-e6cd-ddcac47e6d79"
      },
      "execution_count": 53,
      "outputs": [
        {
          "output_type": "stream",
          "name": "stdout",
          "text": [
            "_ _ _ _ _ _\n",
            "Choose a letter between A-Za\n",
            "You have 7 left\n",
            "_ _ _ _ _ _\n",
            "Choose a letter between A-Za\n",
            "You already guessed the letter a. Try again\n",
            "_ _ _ _ _ _\n",
            "Choose a letter between A-Zs\n",
            "You have 6 left\n",
            "_ _ _ _ _ _\n",
            "Choose a letter between A-Zd\n",
            "You have 5 left\n",
            "_ _ _ _ _ _\n",
            "Choose a letter between A-Zf\n",
            "You have 4 left\n",
            "_ _ _ _ _ _\n",
            "Choose a letter between A-Zg\n",
            "You have 3 left\n",
            "_ _ _ _ _ _\n",
            "Choose a letter between A-Zh\n",
            "You have 2 left\n",
            "_ _ _ _ _ _\n",
            "Choose a letter between A-Zb\n",
            "You have 1 left\n",
            "_ _ _ _ _ _\n",
            "Choose a letter between A-Zv\n",
            "You have 0 left\n",
            "_ _ _ _ _ _\n",
            "The word  was purple\n",
            "\n",
            "You lost. The man died\n"
          ]
        }
      ]
    },
    {
      "cell_type": "code",
      "source": [],
      "metadata": {
        "id": "l5imNgODtnic"
      },
      "execution_count": null,
      "outputs": []
    }
  ]
}