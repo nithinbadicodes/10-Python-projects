{
  "nbformat": 4,
  "nbformat_minor": 0,
  "metadata": {
    "colab": {
      "provenance": [],
      "authorship_tag": "ABX9TyNM64HVGCvQmhucSZiqLz6e",
      "include_colab_link": true
    },
    "kernelspec": {
      "name": "python3",
      "display_name": "Python 3"
    },
    "language_info": {
      "name": "python"
    }
  },
  "cells": [
    {
      "cell_type": "markdown",
      "metadata": {
        "id": "view-in-github",
        "colab_type": "text"
      },
      "source": [
        "<a href=\"https://colab.research.google.com/github/nithinbadicodes/10-Python-projects/blob/master/Temperature_converter.ipynb\" target=\"_parent\"><img src=\"https://colab.research.google.com/assets/colab-badge.svg\" alt=\"Open In Colab\"/></a>"
      ]
    },
    {
      "cell_type": "markdown",
      "source": [
        "## Temperature Converter"
      ],
      "metadata": {
        "id": "TlJGiQoLDeVn"
      }
    },
    {
      "cell_type": "markdown",
      "source": [
        "* You’ve invented a time machine! But there’s a problem—the temperature scales in different eras are all messed up. Some civilizations use Celsius, while others swear by Fahrenheit.\n",
        "* Build a temperature converter so that wherever you land in time, you can convert temperatures on the go and survive!\n",
        "* Solution: Use simple arithmetic for conversion formulas: °C to °F: (°C * 9/5) + 32 °F to °C: (°F – 32) * 5/9 Task: Allow the user to input temperature in Celsius or Fahrenheit. Convert between the two and display the result.\n",
        "* Key Concepts: Conditionals, functions, user input."
      ],
      "metadata": {
        "id": "2JWdQVsvDSnC"
      }
    },
    {
      "cell_type": "code",
      "execution_count": 1,
      "metadata": {
        "id": "UGEatyMSDR2f"
      },
      "outputs": [],
      "source": [
        "def temperature_converter(scale,amount):\n",
        "  \"\"\"\n",
        "  Scale : C or F\n",
        "  Amount: temperature in Celsius or Fahrenheit\n",
        "  \"\"\"\n",
        "\n",
        "  if scale == 'F':\n",
        "    return (amount - 32)*(5/9)\n",
        "  elif scale == 'C':\n",
        "    return (amount*(9/5)) + 32"
      ]
    },
    {
      "cell_type": "code",
      "source": [
        "output_scale = \"\"\n",
        "while True:\n",
        "  scale = input('Enter Celsius or Fahrenheit(C or F): ')\n",
        "  if scale.upper() not in ['F','C']:\n",
        "    print('Invalid input. Try again\\n')\n",
        "    continue\n",
        "  else:\n",
        "    while True:\n",
        "      print('\\nSelect the temperature: ')\n",
        "      try:\n",
        "        amount = float(input('Enter the temperature: '))\n",
        "        break\n",
        "      except ValueError:\n",
        "        print('Please select a valid amount')\n",
        "        continue\n",
        "    if scale.upper() == 'C':\n",
        "      output_scale = 'F'\n",
        "    elif scale.upper() == 'F':\n",
        "      output_scale = 'C'\n",
        "    break\n",
        "print(f'The current temperature is {temperature_converter(scale.upper(),amount)} {output_scale.upper()}')"
      ],
      "metadata": {
        "colab": {
          "base_uri": "https://localhost:8080/"
        },
        "id": "iiutoPosE6kx",
        "outputId": "794af5d0-8642-4816-f601-1f3a6189bc99"
      },
      "execution_count": 10,
      "outputs": [
        {
          "output_type": "stream",
          "name": "stdout",
          "text": [
            "Enter Celsius or Fahrenheit(C or F): c\n",
            "\n",
            "Select the temperature: \n",
            "Enter the temperature: 10\n",
            "The current temperature is 50.0 F\n"
          ]
        }
      ]
    },
    {
      "cell_type": "code",
      "source": [
        "temperature_converter('C')"
      ],
      "metadata": {
        "id": "DC2zlFPoGSt0"
      },
      "execution_count": null,
      "outputs": []
    }
  ]
}