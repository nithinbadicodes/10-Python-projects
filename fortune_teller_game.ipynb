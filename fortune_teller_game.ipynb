{
  "nbformat": 4,
  "nbformat_minor": 0,
  "metadata": {
    "colab": {
      "provenance": [],
      "authorship_tag": "ABX9TyM5mvJQ8Dila6kzRUkNns6o",
      "include_colab_link": true
    },
    "kernelspec": {
      "name": "python3",
      "display_name": "Python 3"
    },
    "language_info": {
      "name": "python"
    }
  },
  "cells": [
    {
      "cell_type": "markdown",
      "metadata": {
        "id": "view-in-github",
        "colab_type": "text"
      },
      "source": [
        "<a href=\"https://colab.research.google.com/github/nithinbadicodes/10-Python-projects/blob/master/fortune_teller_game.ipynb\" target=\"_parent\"><img src=\"https://colab.research.google.com/assets/colab-badge.svg\" alt=\"Open In Colab\"/></a>"
      ]
    },
    {
      "cell_type": "markdown",
      "source": [
        "## Fortune Teller Game"
      ],
      "metadata": {
        "id": "u3WhQPuJQMLF"
      }
    },
    {
      "cell_type": "markdown",
      "source": [
        "* Level: Easy Imagine you’re helping a fortune teller who claims to know the future but can only hint at numbers. She challenges the user to guess her “magic number”.\n",
        "* Whenever a player guesses, she gives a clue: “Too high” or “Too low”. Only those with intuition can guess correctly. Can you code the game and help others test their future-seeing powers?\n",
        "* Solution: Use the random module to generate a random number. Use a loop to prompt the user for guesses and provide feedback.\n",
        "* Task: The computer randomly selects a number, and the user tries to guess it. Provide feedback such as “Too high” or “Too low”. Continue until the correct number is guessed. Key Concepts: Loops, conditionals, user input, random module."
      ],
      "metadata": {
        "id": "2zboribkQEy-"
      }
    },
    {
      "cell_type": "code",
      "execution_count": null,
      "metadata": {
        "id": "6OtmEp5kX5f8"
      },
      "outputs": [],
      "source": [
        "import random"
      ]
    },
    {
      "cell_type": "code",
      "source": [
        "# generated number to be predicted\n",
        "a = random.randint(0,100)\n",
        "while True:\n",
        "  try:\n",
        "    x = int(input('Guess a number between 0 and 100\\n'))\n",
        "  except ValueError:\n",
        "    print('Input is not a number\\n')\n",
        "  if ( x < 0) or (x >100):\n",
        "    print('Number is invalid. Please select a number between 0 and 100\\n')\n",
        "    continue\n",
        "  if x == a:\n",
        "    print(f'You guessed right. The number is {a}')\n",
        "    break\n",
        "  elif x < a:\n",
        "    print('Too low')\n",
        "    continue\n",
        "  elif x>a:\n",
        "    print('Too high')"
      ],
      "metadata": {
        "colab": {
          "base_uri": "https://localhost:8080/"
        },
        "id": "a6bajVy1YaYx",
        "outputId": "33136ef2-1567-428b-8f3b-6c1c91f4c34c"
      },
      "execution_count": null,
      "outputs": [
        {
          "output_type": "stream",
          "name": "stdout",
          "text": [
            "Guess a number between 0 and 100\n",
            "48\n",
            "Too low\n",
            "Guess a number between 0 and 100\n",
            "50\n",
            "Too low\n",
            "Guess a number between 0 and 100\n",
            "80\n",
            "Too high\n",
            "Guess a number between 0 and 100\n",
            "70\n",
            "Too high\n",
            "Guess a number between 0 and 100\n",
            "60\n",
            "Too low\n",
            "Guess a number between 0 and 100\n",
            "65\n",
            "Too high\n",
            "Guess a number between 0 and 100\n",
            "62\n",
            "Too low\n",
            "Guess a number between 0 and 100\n",
            "63\n",
            "Too low\n",
            "Guess a number between 0 and 100\n",
            "64\n",
            "You guessed right. The number is 64\n"
          ]
        }
      ]
    },
    {
      "cell_type": "code",
      "source": [],
      "metadata": {
        "id": "aYyUZzlFZUxZ"
      },
      "execution_count": null,
      "outputs": []
    }
  ]
}