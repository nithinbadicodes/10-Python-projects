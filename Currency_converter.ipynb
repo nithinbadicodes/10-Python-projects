{
  "nbformat": 4,
  "nbformat_minor": 0,
  "metadata": {
    "colab": {
      "provenance": [],
      "authorship_tag": "ABX9TyMG8B+ssHRUf99CMViGiJt4",
      "include_colab_link": true
    },
    "kernelspec": {
      "name": "python3",
      "display_name": "Python 3"
    },
    "language_info": {
      "name": "python"
    }
  },
  "cells": [
    {
      "cell_type": "markdown",
      "metadata": {
        "id": "view-in-github",
        "colab_type": "text"
      },
      "source": [
        "<a href=\"https://colab.research.google.com/github/nithinbadicodes/10-Python-projects/blob/master/Currency_converter.ipynb\" target=\"_parent\"><img src=\"https://colab.research.google.com/assets/colab-badge.svg\" alt=\"Open In Colab\"/></a>"
      ]
    },
    {
      "cell_type": "markdown",
      "source": [
        "## Currency converter"
      ],
      "metadata": {
        "id": "htGlJj8FIBM9"
      }
    },
    {
      "cell_type": "markdown",
      "source": [
        "Level: Medium\n",
        "* Imagine you are an international traveller, jumping between countries every day, needing to make purchases in different currencies.\n",
        "* You need a real-time currency converter on your device that helps you convert USD to INR, EUR to JPY, or any currency quickly using live exchange rates.\n",
        "* Build a tool that pulls real-time data from an API so you never get stuck overpaying for a cup of coffee in Paris or missing a deal in Tokyo!\n",
        "* Task: Use the forex-python or requests module to get exchange rates. Allow users to select currencies and amounts. Display the converted amount.\n",
        "* Key Concepts: APIs, data retrieval, user input, conditional statements."
      ],
      "metadata": {
        "id": "jCW_biFKH2Cs"
      }
    },
    {
      "cell_type": "code",
      "execution_count": 2,
      "metadata": {
        "id": "vo9dkJZIH0w8"
      },
      "outputs": [],
      "source": [
        "# Create a free api key from - https://currencyapi.com/ and store it in a text file\n",
        "filepath = '/content/currency-converter-api-key.txt'\n",
        "\n",
        "with open(filepath) as f:\n",
        "  api_key = f.read()\n"
      ]
    },
    {
      "cell_type": "code",
      "source": [
        "!pip install currencyapicom"
      ],
      "metadata": {
        "id": "ZC3yo1m6LYof"
      },
      "execution_count": null,
      "outputs": []
    },
    {
      "cell_type": "code",
      "source": [
        "import currencyapicom\n",
        "client = currencyapicom.Client(api_key)"
      ],
      "metadata": {
        "colab": {
          "base_uri": "https://localhost:8080/"
        },
        "id": "R3GMPvZOLTsY",
        "outputId": "6b5e8e4d-b22d-45b5-96cb-7c87257bb5f5"
      },
      "execution_count": 4,
      "outputs": [
        {
          "output_type": "stream",
          "name": "stdout",
          "text": [
            "{'meta': {'last_updated_at': '2025-09-07T23:59:59Z'}, 'data': {'AUD': {'code': 'AUD', 'value': 1.5255802152}, 'EUR': {'code': 'EUR', 'value': 0.8532601403}}}\n"
          ]
        }
      ]
    },
    {
      "cell_type": "code",
      "source": [
        "codes = list(client.currencies()['data'].keys())"
      ],
      "metadata": {
        "id": "mPo60s_-M9bf"
      },
      "execution_count": 11,
      "outputs": []
    },
    {
      "cell_type": "markdown",
      "source": [
        "Currency list can be taken from - https://currencyapi.com/docs/currency-list"
      ],
      "metadata": {
        "id": "X5NWhV3uOp0A"
      }
    },
    {
      "cell_type": "code",
      "source": [
        "def collect_info():\n",
        "  amount = float(input('Enter amount to be converted'))\n",
        "  while True:\n",
        "    code = input('Enter your currency code(ex:USD,AUD,EUR):\\n')\n",
        "    if code.upper() not in codes:\n",
        "      print('Invalid code')\n",
        "      continue\n",
        "    else:\n",
        "      while True:\n",
        "        output_code = input('Enter target currency code(ex: INR,USD)')\n",
        "        if output_code.upper() not in codes:\n",
        "          print('Invalid output code')\n",
        "          continue\n",
        "        break\n",
        "    break\n",
        "  return amount,code.upper(),output_code.upper()"
      ],
      "metadata": {
        "id": "PN7ni0mULk7F"
      },
      "execution_count": 25,
      "outputs": []
    },
    {
      "cell_type": "code",
      "source": [
        "amount,code,output_code = collect_info()\n",
        "result = client.latest(code,currencies=[output_code])\n",
        "converted_amount = result['data'][output_code]['value']\n",
        "final_amount = amount * converted_amount\n",
        "\n",
        "\n",
        "print(f'{amount:.2f} {code} equals {final_amount:.2f}')\n"
      ],
      "metadata": {
        "colab": {
          "base_uri": "https://localhost:8080/"
        },
        "id": "7jyIVxR_O-sN",
        "outputId": "057aa529-a07c-44fe-8b3c-4c73fc14dd24"
      },
      "execution_count": 26,
      "outputs": [
        {
          "output_type": "stream",
          "name": "stdout",
          "text": [
            "Enter amount to be converted2.5\n",
            "Enter your currency code(ex:USD,AUD,EUR):\n",
            "usd\n",
            "Enter target currency code(ex: INR,USD)ine\n",
            "Invalid output code\n",
            "Enter target currency code(ex: INR,USD)inr\n",
            "2.50 USD equals 220.29\n"
          ]
        }
      ]
    },
    {
      "cell_type": "code",
      "source": [],
      "metadata": {
        "id": "kjW5GdgqPmop"
      },
      "execution_count": null,
      "outputs": []
    }
  ]
}